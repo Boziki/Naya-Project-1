{
 "cells": [
  {
   "cell_type": "code",
   "execution_count": 24,
   "metadata": {
    "collapsed": true
   },
   "outputs": [],
   "source": [
    "class Node:\n",
    "    \n",
    "    def __init__(self,name):\n",
    "        self._name = name\n",
    "        self._neighbors = {}\n",
    "    \n",
    "    def __str__(self):\n",
    "        #What's the desired representation?\n",
    "        pass\n",
    "    \n",
    "    def __len__(self):\n",
    "        return len(self._neighbors)\n",
    "    \n",
    "    def __contains__(self,item):\n",
    "        return item in self._neighbors\n",
    "    \n",
    "    def __getitem__(self, key):\n",
    "        return self._neighbors.get(key, None)\n",
    "    \n",
    "    def __eq__(self, other):\n",
    "        return self._name == other._name\n",
    "    \n",
    "    def __ne__(self, other):\n",
    "        return self._name != other._name\n",
    "    \n",
    "    def is_neighbor(self, name):\n",
    "        return self.__contains__(name)\n",
    "    \n",
    "    def update(self, name, weight):\n",
    "        if self._name != name:\n",
    "            self._neighbors[name] = max(self._neighbors.get(name,weight),weight)\n",
    "    \n",
    "    def remove_neighbor(self, name):\n",
    "        if name in self._neighbors:\n",
    "            del self._neighbors[name]\n",
    "    \n",
    "    def is_isolated(self):\n",
    "        return not self._neighbors\n",
    "    \n"
   ]
  },
  {
   "cell_type": "code",
   "execution_count": 2,
   "metadata": {
    "collapsed": true
   },
   "outputs": [],
   "source": [
    "class Graph:\n",
    "    \n",
    "    def __init_(self, name, nodes=[]):\n",
    "        pass\n",
    "    \n",
    "    def __str__(self):\n",
    "        pass\n",
    "    \n",
    "    def __len__(self):\n",
    "        pass\n",
    "    \n",
    "    def __contains__(self,key):\n",
    "        pass\n",
    "    \n",
    "    def __getitem__(self,name):\n",
    "        pass\n",
    "    \n",
    "    def __add__(self,other):\n",
    "        pass\n",
    "    \n",
    "    def update(self,node):\n",
    "        pass\n",
    "    \n",
    "    def remove_node(self, name):\n",
    "        pass\n",
    "    \n",
    "    def is_edge(self, frm_name, to_name):\n",
    "        pass\n",
    "    \n",
    "    def add_edge(self, frm_name, to_name, weigth):\n",
    "        pass\n",
    "    \n",
    "    def remove_edge(self,frm_name, to_name):\n",
    "        pass\n",
    "    \n",
    "    def get_edge_weight(self,frm_name, to_name):\n",
    "        pass\n",
    "    \n",
    "    def get_path_weight(self, path):\n",
    "        pass\n",
    "    \n",
    "    def is_reachable(self,frm_name, to_name):\n",
    "        pass\n",
    "    \n",
    "    def find_shortest_path(self, frm_name, to_name):\n",
    "        pass\n",
    "    "
   ]
  },
  {
   "cell_type": "code",
   "execution_count": null,
   "metadata": {
    "collapsed": true
   },
   "outputs": [],
   "source": []
  }
 ],
 "metadata": {
  "kernelspec": {
   "display_name": "Python 3",
   "language": "python",
   "name": "python3"
  },
  "language_info": {
   "codemirror_mode": {
    "name": "ipython",
    "version": 3
   },
   "file_extension": ".py",
   "mimetype": "text/x-python",
   "name": "python",
   "nbconvert_exporter": "python",
   "pygments_lexer": "ipython3",
   "version": "3.6.0"
  }
 },
 "nbformat": 4,
 "nbformat_minor": 2
}
